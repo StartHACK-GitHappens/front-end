{
 "cells": [
  {
   "cell_type": "code",
   "execution_count": 1,
   "id": "84ee79c6-e207-462c-9f5c-6863e4000561",
   "metadata": {},
   "outputs": [],
   "source": [
    "import requests"
   ]
  },
  {
   "cell_type": "code",
   "execution_count": 2,
   "id": "538e4b30-3d9c-4111-90bd-6ed9b5a88ac5",
   "metadata": {},
   "outputs": [],
   "source": [
    "FORECAST_API_KEY = \"7850c5bb-4784-4636-9187-d3b41cae4c18\""
   ]
  },
  {
   "cell_type": "code",
   "execution_count": 3,
   "id": "d6a1c567-557f-4e3f-ad6b-8ea7503b7636",
   "metadata": {},
   "outputs": [],
   "source": [
    "headers = {\n",
    "    'ApiKey': FORECAST_API_KEY,\n",
    "}"
   ]
  },
  {
   "cell_type": "code",
   "execution_count": 20,
   "id": "9abc845d-8885-4448-b533-a3d2a53a27af",
   "metadata": {},
   "outputs": [
    {
     "name": "stdout",
     "output_type": "stream",
     "text": [
      "[{'latitude': 47.0, 'longitude': 7.0, 'date': '2024/03/20 00:00:00', 'measureLabel': 'HumidityRel_DailyAvg (pct)', 'dailyValue': '82'}]\n"
     ]
    }
   ],
   "source": [
    "lat = 47\n",
    "lng = 7\n",
    "startDate = \"2024-03-20\"\n",
    "endDate = \"2024-03-20\"\n",
    "response = requests.get(\"https://services.cehub.syngenta-ais.com/api/Forecast/ShortRangeForecastDaily?latitude={}&longitude={}&startDate={}&endDate={}&supplier=Meteoblue&measureLabel=HumidityRel_DailyAvg%20%28pct%29%3B&format=json\"\n",
    "             .format(lat, lng, startDate, endDate), headers=headers)\n",
    "print(response.json())"
   ]
  },
  {
   "cell_type": "code",
   "execution_count": 19,
   "id": "cf013bfb-f60d-46c3-aff4-0a8afa89ca76",
   "metadata": {},
   "outputs": [
    {
     "data": {
      "text/plain": [
       "2"
      ]
     },
     "execution_count": 19,
     "metadata": {},
     "output_type": "execute_result"
    }
   ],
   "source": [
    "len(response.json())"
   ]
  },
  {
   "cell_type": "code",
   "execution_count": 14,
   "id": "698f6cd4-4672-45a1-b0c1-727aa58e941d",
   "metadata": {},
   "outputs": [
    {
     "data": {
      "text/plain": [
       "'251'"
      ]
     },
     "execution_count": 14,
     "metadata": {},
     "output_type": "execute_result"
    }
   ],
   "source": [
    "response.headers[\"Content-Length\"]"
   ]
  },
  {
   "cell_type": "code",
   "execution_count": 16,
   "id": "4fb47d30-897c-46a5-b10e-d664198c52cd",
   "metadata": {},
   "outputs": [
    {
     "name": "stdout",
     "output_type": "stream",
     "text": [
      "Status code: 204\n"
     ]
    }
   ],
   "source": [
    "lat = 100\n",
    "lng = 50\n",
    "startDate = \"2024-03-20\"\n",
    "endDate = \"2024-03-22\"\n",
    "response = requests.get(\"https://services.cehub.syngenta-ais.com/api/Forecast/ShortRangeForecastDaily?latitude={}&longitude={}&startDate={}&endDate={}&supplier=Meteoblue&measureLabel=HumidityRel_DailyAvg%20%28pct%29%3B&format=json\"\n",
    "             .format(lat, lng, startDate, endDate), headers=headers)\n",
    "if response.status_code == 200:\n",
    "    print(response.json())\n",
    "else:\n",
    "    print(\"Status code:\", response.status_code)"
   ]
  },
  {
   "cell_type": "code",
   "execution_count": 17,
   "id": "2f17dbfe-6550-47a0-b827-c583cdbdc0b3",
   "metadata": {},
   "outputs": [
    {
     "data": {
      "text/plain": [
       "0"
      ]
     },
     "execution_count": 17,
     "metadata": {},
     "output_type": "execute_result"
    }
   ],
   "source": [
    "int(response.headers[\"Content-Length\"])"
   ]
  },
  {
   "cell_type": "code",
   "execution_count": null,
   "id": "c5fdde5b-3932-4bae-ad69-fc1957bc68a0",
   "metadata": {},
   "outputs": [],
   "source": []
  },
  {
   "cell_type": "code",
   "execution_count": 27,
   "id": "21043289-7894-4212-a654-534e93870d08",
   "metadata": {},
   "outputs": [],
   "source": [
    "lat = 47\n",
    "lng = 7\n",
    "startDate = \"2024-03-25\"\n",
    "endDate = startDate\n",
    "response = requests.get(\"https://services.cehub.syngenta-ais.com/api/Forecast/ShortRangeForecastDaily?latitude={}&longitude={}&startDate={}&endDate={}&supplier=Meteoblue&measureLabel=HumidityRel_DailyAvg%20%28pct%29%3B&format=json\"\n",
    "             .format(lat, lng, startDate, endDate), headers=headers)\n",
    "if response.status_code == 200:\n",
    "    data = response.json()\n",
    "    if len(data) > 0:\n",
    "        relativeHumidty = data[0][\"dailyValue\"]"
   ]
  },
  {
   "cell_type": "code",
   "execution_count": 28,
   "id": "10b9acf4-c03b-4ef9-9413-28ce2982626a",
   "metadata": {},
   "outputs": [
    {
     "data": {
      "text/plain": [
       "'70'"
      ]
     },
     "execution_count": 28,
     "metadata": {},
     "output_type": "execute_result"
    }
   ],
   "source": [
    "relativeHumidty"
   ]
  },
  {
   "cell_type": "code",
   "execution_count": 29,
   "id": "0c359aa0-08c0-41e5-ab92-3a737618e037",
   "metadata": {},
   "outputs": [],
   "source": [
    "response = requests.get(\"https://services.cehub.syngenta-ais.com/api/DiseaseRisk/PotatoRisk?latitude={}&longitude={}&startDate={}&endDate={}&modelId=ConventionalSmithBlight&relativeHumidity={}\"\n",
    "                        .format(lat, lng, startDate, endDate, relativeHumidty), headers=headers)"
   ]
  },
  {
   "cell_type": "code",
   "execution_count": 31,
   "id": "61b7db0c-45dc-4b20-b814-3e0441032fc3",
   "metadata": {},
   "outputs": [
    {
     "data": {
      "text/plain": [
       "[{'requestLatitude': 47.0,\n",
       "  'requestLongitude': 7.0,\n",
       "  'modelName': 'Conventional Smith Blightcast Disease Risk',\n",
       "  'modelID': 'ConventionalSmithBlight',\n",
       "  'date': '2024/03/25 00:00:00',\n",
       "  'property': 'RiskPredicator (class)',\n",
       "  'value': '0'}]"
      ]
     },
     "execution_count": 31,
     "metadata": {},
     "output_type": "execute_result"
    }
   ],
   "source": [
    "response.json()"
   ]
  },
  {
   "cell_type": "code",
   "execution_count": 32,
   "id": "8a011f61-09e2-4f1f-b4e6-4ddaef3f2dbb",
   "metadata": {},
   "outputs": [],
   "source": [
    "HUMIDITY_DAILY_AVG_URL = \"https://services.cehub.syngenta-ais.com/api/Forecast/ShortRangeForecastDaily?latitude={}&longitude={}&startDate={}&endDate={}&supplier=Meteoblue&measureLabel=HumidityRel_DailyAvg%20%28pct%29%3B&format=json\""
   ]
  },
  {
   "cell_type": "code",
   "execution_count": null,
   "id": "48ed926f-4a2f-4b33-ad5b-142b188acae0",
   "metadata": {},
   "outputs": [],
   "source": []
  }
 ],
 "metadata": {
  "kernelspec": {
   "display_name": "playground",
   "language": "python",
   "name": "playground"
  },
  "language_info": {
   "codemirror_mode": {
    "name": "ipython",
    "version": 3
   },
   "file_extension": ".py",
   "mimetype": "text/x-python",
   "name": "python",
   "nbconvert_exporter": "python",
   "pygments_lexer": "ipython3",
   "version": "3.10.12"
  }
 },
 "nbformat": 4,
 "nbformat_minor": 5
}
